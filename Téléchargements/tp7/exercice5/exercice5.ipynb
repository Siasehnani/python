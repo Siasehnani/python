{
 "cells": [
  {
   "cell_type": "code",
   "execution_count": 1,
   "metadata": {},
   "outputs": [
    {
     "name": "stdout",
     "output_type": "stream",
     "text": [
      "Les 5 premières lignes des données :\n",
      "             timestamp  temperature  humidity  soil_moisture  light  movement  \\\n",
      "0  2024-12-29 12:00:00           25        70             50    600         0   \n",
      "1  2024-12-29 12:30:00           25        72             52    600         0   \n",
      "2  2024-12-29 13:00:00           26        74             55    620         1   \n",
      "3  2024-12-29 13:30:00           27        75             58    650         0   \n",
      "4  2024-12-29 14:00:00           30        40             30    250         0   \n",
      "\n",
      "           pest  presence  \n",
      "0        aphids         1  \n",
      "1        aphids         1  \n",
      "2        aphids         1  \n",
      "3        aphids         1  \n",
      "4  spider_mites         1  \n",
      "La moyenne de l'humidité est : 52.75\n"
     ]
    }
   ],
   "source": [
    "import pandas as pd\n",
    "\n",
    "def main():\n",
    "    \"\"\"\n",
    "    Programme principal pour lire un fichier CSV, afficher les 5 premières lignes\n",
    "    et calculer la moyenne de l'humidité.\n",
    "\n",
    "    Ce script suppose que le fichier CSV contient une colonne nommée \"humidity\".\n",
    "    \"\"\"\n",
    "    # Charger les données à partir du fichier CSV\n",
    "    # Assurez-vous de remplacer \"your_file.csv\" par le chemin réel du fichier.\n",
    "    data = pd.read_csv(\"data.csv\")  \n",
    "\n",
    "    # Afficher les 5 premières lignes du fichier CSV\n",
    "    print(\"Les 5 premières lignes des données :\")\n",
    "    print(data.head())\n",
    "\n",
    "    # Calculer et afficher la moyenne de la colonne 'humidity'\n",
    "    # Vérifiez que la colonne 'humidity' existe dans le fichier CSV.\n",
    "    if 'humidity' in data.columns:\n",
    "        moyenne_humidite = data['humidity'].mean()  # Calcul de la moyenne\n",
    "        print(f\"La moyenne de l'humidité est : {moyenne_humidite}\")\n",
    "    else:\n",
    "        print(\"Erreur : La colonne 'humidity' n'existe pas dans le fichier.\")\n",
    "\n",
    "if __name__ == \"__main__\":\n",
    "    # Exécuter le programme principal\n",
    "    main()\n"
   ]
  }
 ],
 "metadata": {
  "kernelspec": {
   "display_name": "Python 3",
   "language": "python",
   "name": "python3"
  },
  "language_info": {
   "codemirror_mode": {
    "name": "ipython",
    "version": 3
   },
   "file_extension": ".py",
   "mimetype": "text/x-python",
   "name": "python",
   "nbconvert_exporter": "python",
   "pygments_lexer": "ipython3",
   "version": "3.11.4"
  }
 },
 "nbformat": 4,
 "nbformat_minor": 2
}
